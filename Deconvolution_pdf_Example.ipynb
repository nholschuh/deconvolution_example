{
 "cells": [
  {
   "cell_type": "code",
   "execution_count": 151,
   "id": "fc0ddaf6-db4d-4f42-8c88-ba09f9dba3d1",
   "metadata": {
    "tags": []
   },
   "outputs": [
    {
     "data": {
      "text/plain": [
       "(0.0, 0.15)"
      ]
     },
     "execution_count": 151,
     "metadata": {},
     "output_type": "execute_result"
    },
    {
     "data": {
      "image/png": "[encoded data removed]",
      "text/plain": [
       "<Figure size 576x360 with 1 Axes>"
      ]
     },
     "metadata": {
      "needs_background": "light"
     },
     "output_type": "display_data"
    }
   ],
   "source": [
    "################################### Import the relevant packages for testing\n",
    "import numpy as np\n",
    "import matplotlib.pyplot as plt\n",
    "import scipy.signal\n",
    "\n",
    "################################### We'll ultimately plot the results of our analysis\n",
    "fig = plt.figure(figsize=(8,5))\n",
    "\n",
    "################################### We are going to synthesize some task duration distributions\n",
    "################################### and establish probability distribution functions for each of them\n",
    "################################### with 1s resolution\n",
    "dt = 1\n",
    "t_edges = np.arange(-0.5,600.5,dt)\n",
    "t_mids = (t_edges[1:]+t_edges[:-1])/2\n",
    "\n",
    "################################## Draw 5000 samples from a random normal distribution with known mean and standard deviations.\n",
    "################################## These represent the three component tasks\n",
    "task_a_duration = np.random.normal(240,15,size=[5000,1])\n",
    "task_b_duration = np.random.normal(15,3,size=[5000,1])\n",
    "task_c_duration = np.random.normal(120,40,size=[5000,1])\n",
    "\n",
    "################################## Here, we plot the distributions and extract the probability distribution function for each task\n",
    "dist_a = plt.hist(task_a_duration,bins=t_edges,density=True,label='Task A',color=[0.2,0.2,0.2]);\n",
    "dist_b = plt.hist(task_b_duration,bins=t_edges,density=True,label='Task B',color=[0.4,0.4,0.4]);\n",
    "dist_c = plt.hist(task_c_duration,bins=t_edges,density=True,label='Task C',color=[0.6,0.6,0.6]);\n",
    "\n",
    "################################## Here we produce the combined distributions for tasks ac and tasks abc by convolution.\n",
    "################################## Convolution can be performed numerically (which is essentially a loop) or approximated\n",
    "################################## by taking the ifft of the dot product of the fft of each curve. This is faster, but\n",
    "################################## can introduce numerical artifacts. The reason the convolution operation combines\n",
    "################################## probability distribution functions is because it ultimately calculates the likelihood\n",
    "################################## of every combination of task a and task b, and gets the sum of all likelihoods for each outcome.\n",
    "################################## IE -- you can have a total task time of 30 seconds with 10+20 and 11+19, the convolution\n",
    "################################## calculates the odds of each of those combinations and adds them to give likelihoods for new\n",
    "################################## total times.\n",
    "ac_distribution = np.convolve(dist_a[0],dist_c[0],mode='full')\n",
    "ac_distribution_ft = scipy.signal.fftconvolve(dist_a[0],dist_c[0])\n",
    "\n",
    "abc_distribution = np.convolve(ac_distribution,dist_b[0],mode='full')\n",
    "abc_distribution_ft = scipy.signal.fftconvolve(ac_distribution,dist_b[0])\n",
    "\n",
    "################################## Importantly, \"mode='full'\" in the convolution function calculates the result for\n",
    "################################## every overlapping shift of the second series. What that means is that the length of\n",
    "################################## your output array will now be len(a) + len(b) - 1. This is because the first overlapping\n",
    "################################## shift has only one sample from each series. For shifts 1 to len(b), the overlap between\n",
    "################################## the two series grows, from shifts len(b) to len(a), all of series b is overlapping\n",
    "################################## part of series a, and then from shifts len(a) to len(a)+len(b)-1, the overlap is shrinking.\n",
    "################################## You need to construct a new time axis for this new shaped array to compare with your\n",
    "################################## earlier distributions.\n",
    "t_conv1 = np.concatenate([t_mids,t_mids[1:]+np.max(t_mids)])\n",
    "t_conv2 = np.concatenate([t_conv1,t_mids[1:]+np.max(t_mids)])\n",
    "\n",
    "################################## Here we plot the combined distributions\n",
    "plt.plot(t_conv1,ac_distribution,label='Task A+C Combined')\n",
    "plt.plot(t_conv2,abc_distribution_ft,label='Task A+B+C Combined')\n",
    "\n",
    "################################## Deconvolution does this operation in reverse. If we know the combined distribution for\n",
    "################################## a+b+c and for a+c, deconvolving a+b+c using a+c should give you the distribution of b.\n",
    "\n",
    "################################## Numerically, scipy's deconvolve function can't handle 0 values in the input array.\n",
    "################################## Here I reduce each of them to just the non-zero central portion. You have to \n",
    "################################## reconstruct the appropriate new time axis for the output of the deconvolution, which \n",
    "################################## can be derived from the time axes of the original curves. \n",
    "ki_1 = np.where(ac_distribution > 0)\n",
    "ac_distribution_for_deconv = ac_distribution[ki_1]\n",
    "\n",
    "ki_2 = np.where(abc_distribution > 0)\n",
    "abc_distribution_for_deconv = abc_distribution[ki_2]\n",
    "\n",
    "approx_task_b = scipy.signal.deconvolve(abc_distribution_for_deconv,ac_distribution_for_deconv)[0]\n",
    "\n",
    "################################## We reconstruct the correct time axis. We have an initial shift associated with \n",
    "################################## removed samples at the front of the abc distribution (t_conv2[ki2[0][0]]) that\n",
    "################################## would be partially offset by the samples removed from the ab distribution \n",
    "################################## (t_conv1[ki_1[0][0]])\n",
    "t0 = t_conv2[ki_2[0][0]]-t_conv1[ki_1[0][0]]\n",
    "t_range = np.arange(0,len(approx_task_b))*dt\n",
    "t_deconv = t0+t_range\n",
    "\n",
    "################################## We can plot the final inferred distribution for task B!\n",
    "plt.plot(t_deconv,approx_task_b,label='Inferred Task B Distribution')\n",
    "plt.ylim([0,0.13])\n",
    "\n",
    "plt.legend()\n",
    "plt.xlabel('Task Duration (s)')\n",
    "plt.ylabel('Likelihood')\n",
    "plt.xlim([0,600])\n",
    "plt.ylim([0,0.15])"
   ]
  },
  {
   "cell_type": "code",
   "execution_count": null,
   "id": "cb5fc296-dda2-456b-9113-85d26f67acb5",
   "metadata": {},
   "outputs": [],
   "source": []
  }
 ],
 "metadata": {
  "kernelspec": {
   "display_name": "Python 3 (ipykernel)",
   "language": "python",
   "name": "python3"
  },
  "language_info": {
   "codemirror_mode": {
    "name": "ipython",
    "version": 3
   },
   "file_extension": ".py",
   "mimetype": "text/x-python",
   "name": "python",
   "nbconvert_exporter": "python",
   "pygments_lexer": "ipython3",
   "version": "3.8.10"
  },
  "widgets": {
   "application/vnd.jupyter.widget-state+json": {
    "state": {},
    "version_major": 2,
    "version_minor": 0
   }
  }
 },
 "nbformat": 4,
 "nbformat_minor": 5
}
